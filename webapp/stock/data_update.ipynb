{
 "cells": [
  {
   "cell_type": "code",
   "execution_count": 47,
   "metadata": {},
   "outputs": [],
   "source": [
    "import pandas as pd\n",
    "from datetime import datetime, timedelta\n",
    "from pytz import timezone\n",
    "from pykrx import stock\n",
    "import glob, os"
   ]
  },
  {
   "cell_type": "code",
   "execution_count": 85,
   "metadata": {},
   "outputs": [],
   "source": [
    "time_now = datetime.now(tz=timezone('Asia/Seoul'))\n",
    "time_now_str = time_now.strftime(format='%Y%m%d')\n",
    "# ticker_list = stock.get_market_ticker_list(date=time_now, market='KOSPI')\n",
    "time_start = time_now - timedelta(days=365*5)       #5년전부터 가져오기\n",
    "time_start_str = time_start.strftime(format='%Y%m%d')\n",
    "\n",
    "data_dir = os.path.join(\"..\", 'media')"
   ]
  },
  {
   "cell_type": "markdown",
   "metadata": {},
   "source": [
    "# 전체 주식 시가총액 불러오기"
   ]
  },
  {
   "cell_type": "code",
   "execution_count": 95,
   "metadata": {},
   "outputs": [],
   "source": [
    "market_cap = stock.get_market_cap(time_now_str, market='KOSPI')  #시가총액 순으로 정렬된 dataframe 반환\n",
    "market_cap['종목이름'] = [stock.get_market_ticker_name(tk) for tk in market_cap.index]\n",
    "market_cap = market_cap[:50]"
   ]
  },
  {
   "cell_type": "markdown",
   "metadata": {},
   "source": [
    "# ticker로 5년간 데이터 불러오기"
   ]
  },
  {
   "cell_type": "code",
   "execution_count": 96,
   "metadata": {},
   "outputs": [
    {
     "name": "stdout",
     "output_type": "stream",
     "text": [
      "Directory Created\n",
      "Directory Created\n",
      "Directory Created\n",
      "Directory Created\n",
      "Directory Created\n",
      "Directory Created\n",
      "Directory Created\n",
      "Directory Created\n",
      "Directory Created\n",
      "Directory Created\n",
      "Directory Created\n",
      "Directory Created\n",
      "Directory Created\n",
      "Directory Created\n",
      "Directory Created\n",
      "Directory Created\n",
      "Directory Created\n",
      "Directory Created\n",
      "Directory Created\n",
      "Directory Created\n",
      "Directory Created\n",
      "Directory Created\n",
      "Directory Created\n",
      "Directory Created\n",
      "Directory Created\n",
      "Directory Created\n",
      "Directory Created\n",
      "Directory Created\n",
      "Directory Created\n",
      "Directory Created\n",
      "Directory Created\n",
      "Directory Created\n",
      "Directory Created\n",
      "Directory Created\n",
      "Directory Created\n",
      "Directory Created\n",
      "Directory Created\n",
      "Directory Created\n",
      "Directory Created\n",
      "Directory Created\n",
      "Directory Created\n",
      "Directory Created\n",
      "Directory Created\n",
      "Directory Created\n",
      "Directory Created\n",
      "Directory Created\n",
      "Directory Created\n",
      "Directory Created\n",
      "Directory Created\n"
     ]
    }
   ],
   "source": [
    "for ticker in market_cap.index:\n",
    "    \n",
    "    # ticker_name = stock.get_market_ticker_name(ticker)\n",
    "    ticker_name = market_cap.loc[ticker, '종목이름']\n",
    "    ticker_dir = os.path.join(data_dir , f\"{ticker_name}\")\n",
    "    try:                                        #회사 폴더 없으면 생성\n",
    "        os.mkdir(ticker_dir)       \n",
    "    except:                                     #있으면 말고\n",
    "        pass\n",
    "\n",
    "    data = stock.get_market_ohlcv_by_date(fromdate=time_start_str, todate=time_now_str, ticker=ticker)\n",
    "    data.to_csv(f\"{ticker_dir}/{ticker_name}.csv\", encoding='cp949')\n",
    "    "
   ]
  },
  {
   "cell_type": "code",
   "execution_count": null,
   "metadata": {},
   "outputs": [],
   "source": []
  }
 ],
 "metadata": {
  "interpreter": {
   "hash": "7b1f080b7c81481a437babb93d1e443afb168f454cba472870ecc747a34106f1"
  },
  "kernelspec": {
   "display_name": "Python 3.10.0 ('mysite')",
   "language": "python",
   "name": "python3"
  },
  "language_info": {
   "codemirror_mode": {
    "name": "ipython",
    "version": 3
   },
   "file_extension": ".py",
   "mimetype": "text/x-python",
   "name": "python",
   "nbconvert_exporter": "python",
   "pygments_lexer": "ipython3",
   "version": "3.10.0"
  },
  "orig_nbformat": 4
 },
 "nbformat": 4,
 "nbformat_minor": 2
}
